{
 "cells": [
  {
   "cell_type": "markdown",
   "metadata": {},
   "source": [
    "# Package Install"
   ]
  },
  {
   "cell_type": "code",
   "execution_count": null,
   "metadata": {},
   "outputs": [],
   "source": [
    "install.packages(c(\"Rtsne\", \"irlba\"), repos=\"https://cran.r-project.org\", type=\"source\")"
   ]
  },
  {
   "cell_type": "markdown",
   "metadata": {},
   "source": [
    "# Package Loading"
   ]
  },
  {
   "cell_type": "code",
   "execution_count": null,
   "metadata": {},
   "outputs": [],
   "source": [
    "library(\"Rtsne\")\n",
    "library(\"irlba\")"
   ]
  },
  {
   "cell_type": "markdown",
   "metadata": {},
   "source": [
    "# Function Definition"
   ]
  },
  {
   "cell_type": "code",
   "execution_count": null,
   "metadata": {},
   "outputs": [],
   "source": [
    "reductDims <- function(input, dim_pca=10, dim_tsne=2,\n",
    "\ttype_pca=c(\"svd\", \"irlba\"), verbose=TRUE){\n",
    "\t# Argument Check\n",
    "\t.checkreductDims(input, dim_pca, dim_tsne, verbose)\n",
    "\ttype_pca <- match.arg(type_pca)\n",
    "\t# Initialization\n",
    "\tscaled_input <- .initreductDims(input)\n",
    "\t# PCA\n",
    "\tif(type_pca == \"svd\"){\n",
    "\t\tif(verbose){\n",
    "\t\t\tmessage(\"SVD (svd) is performing...\")\n",
    "\t\t}\n",
    "\t\tout_PCA <- svd(scaled_input, nu=dim_pca, nv=dim_pca)\n",
    "\t}\n",
    "\tif(type_pca == \"irlba\"){\n",
    "\t\tif(verbose){\n",
    "\t\t\tmessage(\"SVD (irlba) is performing...\")\n",
    "\t\t}\n",
    "\t\tout_PCA <- irlba(scaled_input, nu=dim_pca, nv=dim_pca)\n",
    "\t}\n",
    "\t# t-SNE\n",
    "\tif(verbose){\n",
    "\t\tmessage(\"t-SNE is performing...\")\n",
    "\t}\n",
    "\tout_tsne <- Rtsne(out_PCA$u, dims=dim_tsne, perplexity=10)\n",
    "\t# Output\n",
    "\tlist(pca=out_PCA, tsne=out_tsne)\n",
    "}\n",
    "\n",
    "# Check Function\n",
    ".checkreductDims <- function(input, dim_pca, dim_tsne, verbose){\n",
    "\t# 1. Check Input\n",
    "\tif(!is.matrix(input)){\n",
    "\t\tstop(\"Specify the input as a matrix object!\")\n",
    "\t}\n",
    "\t# 2. Check dim_pca\n",
    "\tmin_dim <- min(dim(input))\n",
    "\tif(dim_pca > min_dim){\n",
    "\t\tstop(\"Specify the dim_pca smaller than min(dim(input))!\")\n",
    "\t}\n",
    "\t# 3. Check dim_tsne\n",
    "\tif(dim_tsne > min_dim){\n",
    "\t\tstop(\"Specify the dim_tsne smaller than min(dim(input))!\")\n",
    "\t}\n",
    "\t# 5. Check verbose\n",
    "\tstopifnot(is.logical(verbose))\n",
    "}\n",
    "\n",
    "# Initialization Function\n",
    ".initreductDims <- function(input){\n",
    "\tscale(input, center=TRUE, scale=FALSE)\n",
    "}\n",
    "\n",
    "plotDims <- function(out){\n",
    "\tlayout(t(1:2))\n",
    "\tplot(out$pca$u[,1:2], main=\"PCA\",\n",
    "\t\txlab=\"Dim1\", ylab=\"Dim2\",\n",
    "\t\tcol=rgb(0,0,1), pch=16)\n",
    "\tplot(out$tsne$Y, main=\"t-SNE\",\n",
    "\t\txlab=\"Dim1\", ylab=\"Dim2\",\n",
    "\t\tcol=rgb(0,0,1), pch=16)\n",
    "}"
   ]
  },
  {
   "cell_type": "markdown",
   "metadata": {},
   "source": [
    "# How to use"
   ]
  },
  {
   "cell_type": "code",
   "execution_count": null,
   "metadata": {},
   "outputs": [],
   "source": [
    "# Test data\n",
    "input <- matrix(runif(50*100), nrow=50, ncol=100)\n",
    "\n",
    "# Dimension Reduction\n",
    "out <- reductDims(\n",
    "    input=input,\n",
    "    dim_pca=10,\n",
    "    dim_tsne=2,\n",
    "    type_pca=\"svd\",\n",
    "    verbose=TRUE)\n",
    "\n",
    "# Visualization\n",
    "plotDims(out)"
   ]
  }
 ],
 "metadata": {
  "kernelspec": {
   "display_name": "R",
   "language": "R",
   "name": "ir"
  },
  "language_info": {
   "codemirror_mode": "r",
   "file_extension": ".r",
   "mimetype": "text/x-r-source",
   "name": "R",
   "pygments_lexer": "r",
   "version": "4.1.0"
  }
 },
 "nbformat": 4,
 "nbformat_minor": 4
}
